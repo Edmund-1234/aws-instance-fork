{
 "cells": [
  {
   "cell_type": "code",
   "execution_count": 17,
   "id": "7cabde9a",
   "metadata": {},
   "outputs": [
    {
     "name": "stdout",
     "output_type": "stream",
     "text": [
      "____________EmployerName____________\n",
      "____________Address____________\n",
      "____________CompanyNumber____________\n",
      "____________SicCodes____________\n",
      "____________DiffMeanHourlyPercent____________\n",
      "____________DiffMedianHourlyPercent____________\n",
      "____________DiffMeanBonusPercent____________\n",
      "____________DiffMedianBonusPercent____________\n",
      "____________MaleBonusPercent____________\n",
      "____________FemaleBonusPercent____________\n",
      "____________MaleLowerQuartile____________\n",
      "____________FemaleLowerQuartile____________\n",
      "____________MaleLowerMiddleQuartile____________\n",
      "____________FemaleLowerMiddleQuartile____________\n",
      "____________MaleUpperMiddleQuartile____________\n",
      "____________FemaleUpperMiddleQuartile____________\n",
      "____________MaleTopQuartile____________\n",
      "____________FemaleTopQuartile____________\n",
      "____________CompanyLinkToGPGInfo____________\n",
      "____________ResponsiblePerson____________\n",
      "____________EmployerSize____________\n",
      "____________CurrentName____________\n",
      "____________SubmittedAfterTheDeadline____________\n",
      "____________DueDate____________\n",
      "____________DateSubmitted____________\n",
      "<class 'pandas.core.frame.DataFrame'>\n",
      "Int64Index: 9196 entries, 0 to 10564\n",
      "Data columns (total 17 columns):\n",
      " #   Column                     Non-Null Count  Dtype  \n",
      "---  ------                     --------------  -----  \n",
      " 0   EmployerName               9196 non-null   object \n",
      " 1   CompanyNumber              7965 non-null   object \n",
      " 2   DiffMeanHourlyPercent      9196 non-null   float64\n",
      " 3   DiffMedianHourlyPercent    9196 non-null   float64\n",
      " 4   DiffMeanBonusPercent       9196 non-null   float64\n",
      " 5   DiffMedianBonusPercent     9196 non-null   float64\n",
      " 6   MaleBonusPercent           9196 non-null   float64\n",
      " 7   FemaleBonusPercent         9196 non-null   float64\n",
      " 8   MaleLowerQuartile          9196 non-null   float64\n",
      " 9   FemaleLowerQuartile        9196 non-null   float64\n",
      " 10  MaleLowerMiddleQuartile    9196 non-null   float64\n",
      " 11  FemaleLowerMiddleQuartile  9196 non-null   float64\n",
      " 12  MaleUpperMiddleQuartile    9196 non-null   float64\n",
      " 13  FemaleUpperMiddleQuartile  9196 non-null   float64\n",
      " 14  MaleTopQuartile            9196 non-null   float64\n",
      " 15  FemaleTopQuartile          9196 non-null   float64\n",
      " 16  DateSubmitted              9196 non-null   object \n",
      "dtypes: float64(14), object(3)\n",
      "memory usage: 1.3+ MB\n"
     ]
    }
   ],
   "source": [
    "import pandas as pd\n",
    "file='/Users/jackjones/Desktop/assignment/it722/as2/2.1.csv'\n",
    "df = pd.read_csv(file)\n",
    "df.describe()\n",
    "\n",
    "import numpy as np\n",
    "\n",
    "columns = df.columns\n",
    "\n",
    "columns_list = list(columns)\n",
    "\n",
    "for column_name in columns_list:\n",
    "    \n",
    "    print(\"____________\"+column_name+\"____________\")\n",
    "    if df[column_name].dtype == \"int64\" or df[column_name].dtype == \"float64\":\n",
    "        # calculate IQR\n",
    "        Q1 = df[column_name].quantile(0.25)\n",
    "        Q3 = df[column_name].quantile(0.75)\n",
    "        IQR = Q3 - Q1\n",
    "        \n",
    "        # define bound\n",
    "        lower_bound = Q1 - 1.5 * IQR\n",
    "        upper_bound = Q3 + 1.5 * IQR\n",
    "        # drop outlier\n",
    "        df = df[(df[column_name] >= lower_bound) & (df[column_name] <= upper_bound)]\n",
    "        \n",
    "\n",
    "# filter data\n",
    "df.drop(['Address', 'SicCodes', 'CompanyLinkToGPGInfo','ResponsiblePerson','EmployerSize','CurrentName'\n",
    "         ,'SubmittedAfterTheDeadline','DueDate'], axis=1, inplace=True)\n",
    "df.info()"
   ]
  },
  {
   "cell_type": "code",
   "execution_count": 16,
   "id": "dc82e545",
   "metadata": {},
   "outputs": [
    {
     "name": "stdout",
     "output_type": "stream",
     "text": [
      "<class 'pandas.core.frame.DataFrame'>\n",
      "RangeIndex: 10565 entries, 0 to 10564\n",
      "Data columns (total 17 columns):\n",
      " #   Column                     Non-Null Count  Dtype  \n",
      "---  ------                     --------------  -----  \n",
      " 0   EmployerName               10565 non-null  object \n",
      " 1   CompanyNumber              9206 non-null   object \n",
      " 2   DiffMeanHourlyPercent      10565 non-null  float64\n",
      " 3   DiffMedianHourlyPercent    10565 non-null  float64\n",
      " 4   DiffMeanBonusPercent       10565 non-null  float64\n",
      " 5   DiffMedianBonusPercent     10565 non-null  float64\n",
      " 6   MaleBonusPercent           10565 non-null  float64\n",
      " 7   FemaleBonusPercent         10565 non-null  float64\n",
      " 8   MaleLowerQuartile          10565 non-null  float64\n",
      " 9   FemaleLowerQuartile        10565 non-null  float64\n",
      " 10  MaleLowerMiddleQuartile    10565 non-null  float64\n",
      " 11  FemaleLowerMiddleQuartile  10565 non-null  float64\n",
      " 12  MaleUpperMiddleQuartile    10565 non-null  float64\n",
      " 13  FemaleUpperMiddleQuartile  10565 non-null  float64\n",
      " 14  MaleTopQuartile            10565 non-null  float64\n",
      " 15  FemaleTopQuartile          10565 non-null  float64\n",
      " 16  DateSubmitted              10565 non-null  object \n",
      "dtypes: float64(14), object(3)\n",
      "memory usage: 1.4+ MB\n"
     ]
    }
   ],
   "source": [
    "# clean data\n",
    "df = df.interpolate(method='pchip')\n",
    "df.info()"
   ]
  },
  {
   "cell_type": "code",
   "execution_count": 18,
   "id": "a56cbb9b",
   "metadata": {},
   "outputs": [
    {
     "name": "stdout",
     "output_type": "stream",
     "text": [
      "____________EmployerName____________\n",
      "____________Address____________\n",
      "____________CompanyNumber____________\n",
      "____________SicCodes____________\n",
      "____________DiffMeanHourlyPercent____________\n",
      "____________DiffMedianHourlyPercent____________\n",
      "____________DiffMeanBonusPercent____________\n",
      "____________DiffMedianBonusPercent____________\n",
      "____________MaleBonusPercent____________\n",
      "____________FemaleBonusPercent____________\n",
      "____________MaleLowerQuartile____________\n",
      "____________FemaleLowerQuartile____________\n",
      "____________MaleLowerMiddleQuartile____________\n",
      "____________FemaleLowerMiddleQuartile____________\n",
      "____________MaleUpperMiddleQuartile____________\n",
      "____________FemaleUpperMiddleQuartile____________\n",
      "____________MaleTopQuartile____________\n",
      "____________FemaleTopQuartile____________\n",
      "____________CompanyLinkToGPGInfo____________\n",
      "____________ResponsiblePerson____________\n",
      "____________EmployerSize____________\n",
      "____________CurrentName____________\n",
      "____________SubmittedAfterTheDeadline____________\n",
      "____________DueDate____________\n",
      "____________DateSubmitted____________\n",
      "<class 'pandas.core.frame.DataFrame'>\n",
      "Int64Index: 2292 entries, 1 to 3293\n",
      "Data columns (total 17 columns):\n",
      " #   Column                     Non-Null Count  Dtype  \n",
      "---  ------                     --------------  -----  \n",
      " 0   EmployerName               2292 non-null   object \n",
      " 1   CompanyNumber              2022 non-null   object \n",
      " 2   DiffMeanHourlyPercent      2292 non-null   float64\n",
      " 3   DiffMedianHourlyPercent    2292 non-null   float64\n",
      " 4   DiffMeanBonusPercent       2292 non-null   float64\n",
      " 5   DiffMedianBonusPercent     2292 non-null   float64\n",
      " 6   MaleBonusPercent           2292 non-null   float64\n",
      " 7   FemaleBonusPercent         2292 non-null   float64\n",
      " 8   MaleLowerQuartile          2292 non-null   float64\n",
      " 9   FemaleLowerQuartile        2292 non-null   float64\n",
      " 10  MaleLowerMiddleQuartile    2292 non-null   float64\n",
      " 11  FemaleLowerMiddleQuartile  2292 non-null   float64\n",
      " 12  MaleUpperMiddleQuartile    2292 non-null   float64\n",
      " 13  FemaleUpperMiddleQuartile  2292 non-null   float64\n",
      " 14  MaleTopQuartile            2292 non-null   float64\n",
      " 15  FemaleTopQuartile          2292 non-null   float64\n",
      " 16  DateSubmitted              2292 non-null   object \n",
      "dtypes: float64(14), object(3)\n",
      "memory usage: 322.3+ KB\n"
     ]
    }
   ],
   "source": [
    "file2='/Users/jackjones/Desktop/assignment/it722/as2/2.2.csv'\n",
    "df2 = pd.read_csv(file2)\n",
    "#df.describe(include='all')\n",
    "#df.info()\n",
    "\n",
    "\n",
    "columns = df2.columns\n",
    "\n",
    "columns_list = list(columns)\n",
    "\n",
    "for column_name in columns_list:\n",
    "    \n",
    "    print(\"____________\"+column_name+\"____________\")\n",
    "    if df2[column_name].dtype == \"int64\" or df2[column_name].dtype == \"float64\":\n",
    "        # calculate IQR\n",
    "        Q1 = df2[column_name].quantile(0.25)\n",
    "        Q3 = df2[column_name].quantile(0.75)\n",
    "        IQR = Q3 - Q1\n",
    "        \n",
    "        # define bound\n",
    "        lower_bound = Q1 - 1.5 * IQR\n",
    "        upper_bound = Q3 + 1.5 * IQR\n",
    "        \n",
    "        # drop outlier\n",
    "        df2 = df2[(df2[column_name] >= lower_bound) & (df2[column_name] <= upper_bound)]\n",
    "\n",
    "# filter data\n",
    "df2.drop(['Address', 'SicCodes', 'CompanyLinkToGPGInfo','ResponsiblePerson'\n",
    "         ,'EmployerSize','CurrentName','SubmittedAfterTheDeadline','DueDate'], axis=1, inplace=True)\n",
    "\n",
    "# clean data\n",
    "df2 = df2.interpolate(method='pchip')\n",
    "df2.info()"
   ]
  },
  {
   "cell_type": "code",
   "execution_count": 20,
   "id": "97b1d5b4",
   "metadata": {},
   "outputs": [
    {
     "name": "stdout",
     "output_type": "stream",
     "text": [
      "<class 'pandas.core.frame.DataFrame'>\n",
      "Int64Index: 11488 entries, 0 to 3293\n",
      "Data columns (total 17 columns):\n",
      " #   Column                     Non-Null Count  Dtype  \n",
      "---  ------                     --------------  -----  \n",
      " 0   EmployerName               11488 non-null  object \n",
      " 1   CompanyNumber              9987 non-null   object \n",
      " 2   DiffMeanHourlyPercent      11488 non-null  float64\n",
      " 3   DiffMedianHourlyPercent    11488 non-null  float64\n",
      " 4   DiffMeanBonusPercent       11488 non-null  float64\n",
      " 5   DiffMedianBonusPercent     11488 non-null  float64\n",
      " 6   MaleBonusPercent           11488 non-null  float64\n",
      " 7   FemaleBonusPercent         11488 non-null  float64\n",
      " 8   MaleLowerQuartile          11488 non-null  float64\n",
      " 9   FemaleLowerQuartile        11488 non-null  float64\n",
      " 10  MaleLowerMiddleQuartile    11488 non-null  float64\n",
      " 11  FemaleLowerMiddleQuartile  11488 non-null  float64\n",
      " 12  MaleUpperMiddleQuartile    11488 non-null  float64\n",
      " 13  FemaleUpperMiddleQuartile  11488 non-null  float64\n",
      " 14  MaleTopQuartile            11488 non-null  float64\n",
      " 15  FemaleTopQuartile          11488 non-null  float64\n",
      " 16  DateSubmitted              11488 non-null  object \n",
      "dtypes: float64(14), object(3)\n",
      "memory usage: 1.6+ MB\n"
     ]
    }
   ],
   "source": [
    "#merge the data\n",
    "result = pd.concat([df,df2])\n",
    "result.info()"
   ]
  },
  {
   "cell_type": "code",
   "execution_count": 22,
   "id": "114a5e59",
   "metadata": {},
   "outputs": [],
   "source": [
    "from sklearn.preprocessing import QuantileTransformer\n",
    "\n",
    "quantile_transformer = QuantileTransformer(output_distribution='normal')\n",
    "result['DiffMedianHourlyPercent'] = quantile_transformer.fit_transform(result[['DiffMedianHourlyPercent']])\n",
    "result['DiffMeanBonusPercent'] = quantile_transformer.fit_transform(result[['DiffMedianHourlyPercent']])\n",
    "result['DiffMedianBonusPercent'] = quantile_transformer.fit_transform(result[['DiffMedianHourlyPercent']])"
   ]
  },
  {
   "cell_type": "code",
   "execution_count": 19,
   "id": "9a6fba72",
   "metadata": {},
   "outputs": [
    {
     "data": {
      "image/png": "[encoded data removed]",
      "text/plain": [
       "<Figure size 640x480 with 1 Axes>"
      ]
     },
     "metadata": {},
     "output_type": "display_data"
    },
    {
     "data": {
      "image/png": "[encoded data removed]",
      "text/plain": [
       "<Figure size 640x480 with 1 Axes>"
      ]
     },
     "metadata": {},
     "output_type": "display_data"
    },
    {
     "data": {
      "image/png": "[encoded data removed]",
      "text/plain": [
       "<Figure size 640x480 with 1 Axes>"
      ]
     },
     "metadata": {},
     "output_type": "display_data"
    },
    {
     "data": {
      "image/png": "[encoded data removed]",
      "text/plain": [
       "<Figure size 640x480 with 1 Axes>"
      ]
     },
     "metadata": {},
     "output_type": "display_data"
    }
   ],
   "source": [
    "\n",
    "\n",
    "import matplotlib.pyplot as plt\n",
    "result[\"DiffMedianHourlyPercent\"].hist()\n",
    "plt.show()\n",
    "\n",
    "result[\"DiffMeanBonusPercent\"].hist()\n",
    "plt.show()\n",
    "\n",
    "result[\"DiffMedianBonusPercent\"].hist()\n",
    "plt.show()\n",
    "\n",
    "result[\"MaleTopQuartile\"].hist()\n",
    "plt.show()\n",
    "\n",
    "\n"
   ]
  },
  {
   "cell_type": "code",
   "execution_count": null,
   "id": "d86cc9f0",
   "metadata": {},
   "outputs": [],
   "source": []
  }
 ],
 "metadata": {
  "kernelspec": {
   "display_name": "Python 3 (ipykernel)",
   "language": "python",
   "name": "python3"
  },
  "language_info": {
   "codemirror_mode": {
    "name": "ipython",
    "version": 3
   },
   "file_extension": ".py",
   "mimetype": "text/x-python",
   "name": "python",
   "nbconvert_exporter": "python",
   "pygments_lexer": "ipython3",
   "version": "3.11.5"
  }
 },
 "nbformat": 4,
 "nbformat_minor": 5
}
